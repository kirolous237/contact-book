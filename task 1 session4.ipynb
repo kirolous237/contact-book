{
  "cells": [
    {
      "cell_type": "code",
      "source": [
        "contacts={\"ali\":\"01223456789\",\n",
        "          \"sara\":\"01232456789\",\n",
        "          \"ahmed\":\"01123456788\"\n",
        "          }\n",
        "print(contacts.keys())\n",
        "search_name=input(\"enter the name you want to search for \")\n",
        "if search_name in contacts:\n",
        "  print(f\"{search_name} and his/her number is {contacts[search_name]}\")\n",
        "else:\n",
        "  print(\"the name you searched for is not avaliable in the book\")"
      ],
      "metadata": {
        "id": "QxqrcK5ntt79",
        "outputId": "7e3b9a5a-4469-413f-9ce3-2395357b1a08",
        "colab": {
          "base_uri": "https://localhost:8080/"
        }
      },
      "execution_count": 12,
      "outputs": [
        {
          "output_type": "stream",
          "name": "stdout",
          "text": [
            "dict_keys(['ali', 'sara', 'ahmed'])\n",
            "enter the name you want to search forsara\n",
            "sara and his/her number is 01232456789\n"
          ]
        }
      ]
    }
  ],
  "metadata": {
    "colab": {
      "name": "Welcome To Colab",
      "provenance": []
    },
    "kernelspec": {
      "display_name": "Python 3",
      "name": "python3"
    }
  },
  "nbformat": 4,
  "nbformat_minor": 0
}